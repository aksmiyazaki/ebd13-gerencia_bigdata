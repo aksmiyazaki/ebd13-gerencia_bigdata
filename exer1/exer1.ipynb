{
 "cells": [
  {
   "cell_type": "code",
   "execution_count": 66,
   "metadata": {},
   "outputs": [],
   "source": [
    "from pyspark.sql import SparkSession\n",
    "from pyspark.sql import Row\n",
    "from pyspark.sql import SQLContext\n",
    "from pyspark.sql.types import *\n",
    "import pandas as pd\n",
    "import seaborn as sns\n",
    "from matplotlib import pyplot as plt\n",
    "%matplotlib inline"
   ]
  },
  {
   "cell_type": "code",
   "execution_count": 7,
   "metadata": {},
   "outputs": [],
   "source": [
    "spark = SparkSession.builder \\\n",
    "   .master(\"local\") \\\n",
    "   .appName(\"EBD13-EXER\") \\\n",
    "   .config(\"spark.executor.memory\", \"800mb\") \\\n",
    "   .getOrCreate()\n",
    "   \n",
    "sc = spark.sparkContext\n",
    "sqlContext = SQLContext(sc)\n",
    "\n",
    "df = sqlContext.read.option(\"delimiter\", ';').load('file:///home/admin/Notebooks/acidentes-2016.csv', \n",
    "                      format='com.databricks.spark.csv', \n",
    "                      header='true', \n",
    "                      inferSchema='true')"
   ]
  },
  {
   "cell_type": "code",
   "execution_count": 15,
   "metadata": {},
   "outputs": [],
   "source": [
    "df.createOrReplaceTempView(\"table_acidentes\")"
   ]
  },
  {
   "cell_type": "code",
   "execution_count": 63,
   "metadata": {},
   "outputs": [
    {
     "data": {
      "text/plain": [
       "[Row(sum(MORTES)=47)]"
      ]
     },
     "execution_count": 63,
     "metadata": {},
     "output_type": "execute_result"
    }
   ],
   "source": [
    "df2 = spark.sql(\"Select sum(MORTES) from table_acidentes\")\n",
    "df2.collect()"
   ]
  },
  {
   "cell_type": "code",
   "execution_count": 65,
   "metadata": {},
   "outputs": [
    {
     "name": "stdout",
     "output_type": "stream",
     "text": [
      "evaluating DOMINGO\n",
      "evaluating QUARTA-FEIRA\n",
      "evaluating TERCA-FEIRA\n",
      "evaluating SEXTA-FEIRA\n",
      "evaluating SEGUNDA-FEIRA\n",
      "evaluating SABADO\n",
      "evaluating QUINTA-FEIRA\n"
     ]
    }
   ],
   "source": [
    "df2 = spark.sql(\"Select DIA_SEM, sum(MORTES) from table_acidentes GROUP BY DIA_SEM\")\n",
    "df2.collect()\n",
    "\n",
    "pandas_df = df2.toPandas()\n",
    "pandas_df['iter'] = 0\n",
    "\n",
    "for idx, val in pandas_df.iterrows():\n",
    "    print(\"evaluating \" + str(val[0]))\n",
    "    if val[0]== 'SEGUNDA-FEIRA':\n",
    "        pandas_df.iloc[idx, 2] = 0\n",
    "    if val[0] == 'TERCA-FEIRA':\n",
    "        pandas_df.iloc[idx, 2] = 1\n",
    "    if val[0] == 'QUARTA-FEIRA':\n",
    "        pandas_df.iloc[idx, 2]= 2\n",
    "    if val[0] == 'QUINTA-FEIRA':\n",
    "        pandas_df.iloc[idx, 2] = 3\n",
    "    if val[0] == 'SEXTA-FEIRA':\n",
    "        pandas_df.iloc[idx, 2] = 4\n",
    "    if val[0] == 'SABADO':\n",
    "        pandas_df.iloc[idx, 2] = 5\n",
    "    if val[0] == 'DOMINGO':\n",
    "        pandas_df.iloc[idx, 2] = 6\n",
    "\n",
    "\n",
    "pandas_df.sort_values(by=['iter'], inplace=True)"
   ]
  },
  {
   "cell_type": "code",
   "execution_count": 76,
   "metadata": {},
   "outputs": [
    {
     "data": {
      "image/png": "[encoded data removed]",
      "text/plain": [
       "<Figure size 1080x360 with 1 Axes>"
      ]
     },
     "metadata": {
      "needs_background": "light"
     },
     "output_type": "display_data"
    }
   ],
   "source": [
    "fig, ax = plt.subplots(figsize=(15, 5))\n",
    "sns.barplot(ax=ax, x='sum(MORTES)', y = 'DIA_SEM', data=pandas_df, orient=\"h\")\n",
    "fig.savefig('dead_by_week.png')"
   ]
  },
  {
   "cell_type": "code",
   "execution_count": 90,
   "metadata": {},
   "outputs": [
    {
     "name": "stdout",
     "output_type": "stream",
     "text": [
      "evaluating DOMINGO\n",
      "evaluating QUARTA-FEIRA\n",
      "evaluating TERCA-FEIRA\n",
      "evaluating SEXTA-FEIRA\n",
      "evaluating SEGUNDA-FEIRA\n",
      "evaluating SABADO\n",
      "evaluating QUINTA-FEIRA\n"
     ]
    }
   ],
   "source": [
    "df2 = spark.sql(\"Select DIA_SEM, count(*) from table_acidentes GROUP BY DIA_SEM\")\n",
    "df2.collect()\n",
    "\n",
    "pandas_df = df2.toPandas()\n",
    "pandas_df['iter'] = 0\n",
    "\n",
    "for idx, val in pandas_df.iterrows():\n",
    "    print(\"evaluating \" + str(val[0]))\n",
    "    if val[0]== 'SEGUNDA-FEIRA':\n",
    "        pandas_df.iloc[idx, 2] = 0\n",
    "    if val[0] == 'TERCA-FEIRA':\n",
    "        pandas_df.iloc[idx, 2] = 1\n",
    "    if val[0] == 'QUARTA-FEIRA':\n",
    "        pandas_df.iloc[idx, 2]= 2\n",
    "    if val[0] == 'QUINTA-FEIRA':\n",
    "        pandas_df.iloc[idx, 2] = 3\n",
    "    if val[0] == 'SEXTA-FEIRA':\n",
    "        pandas_df.iloc[idx, 2] = 4\n",
    "    if val[0] == 'SABADO':\n",
    "        pandas_df.iloc[idx, 2] = 5\n",
    "    if val[0] == 'DOMINGO':\n",
    "        pandas_df.iloc[idx, 2] = 6\n",
    "\n",
    "\n",
    "pandas_df.sort_values(by=['iter'], inplace=True)"
   ]
  },
  {
   "cell_type": "code",
   "execution_count": 92,
   "metadata": {},
   "outputs": [
    {
     "data": {
      "image/png": "[encoded data removed]",
      "text/plain": [
       "<Figure size 1080x360 with 1 Axes>"
      ]
     },
     "metadata": {
      "needs_background": "light"
     },
     "output_type": "display_data"
    }
   ],
   "source": [
    "fig, ax = plt.subplots(figsize=(15, 5))\n",
    "sns.barplot(ax=ax, x='count(1)', y = 'DIA_SEM', data=pandas_df, orient=\"h\")\n",
    "fig.savefig('acid_by_weekday.png')"
   ]
  },
  {
   "cell_type": "code",
   "execution_count": 78,
   "metadata": {},
   "outputs": [],
   "source": [
    "df2 = spark.sql(\"Select TIPO_ACID, count(*) from table_acidentes GROUP BY TIPO_ACID\")\n",
    "df2.collect()\n",
    "\n",
    "pandas_df = df2.toPandas()"
   ]
  },
  {
   "cell_type": "code",
   "execution_count": 87,
   "metadata": {
    "scrolled": true
   },
   "outputs": [
    {
     "data": {
      "image/png": "[encoded data removed]",
      "text/plain": [
       "<Figure size 1080x360 with 1 Axes>"
      ]
     },
     "metadata": {
      "needs_background": "light"
     },
     "output_type": "display_data"
    }
   ],
   "source": [
    "fig, ax = plt.subplots(figsize=(15, 5))\n",
    "sns.barplot(ax=ax, x='count(1)', y = 'TIPO_ACID', data=pandas_df.sort_values(by=['count(1)'], ascending=False), orient=\"h\")\n",
    "fig.savefig('tipo_acid.png')"
   ]
  }
 ],
 "metadata": {
  "kernelspec": {
   "display_name": "Python 3",
   "language": "python",
   "name": "python3"
  },
  "language_info": {
   "codemirror_mode": {
    "name": "ipython",
    "version": 3
   },
   "file_extension": ".py",
   "mimetype": "text/x-python",
   "name": "python",
   "nbconvert_exporter": "python",
   "pygments_lexer": "ipython3",
   "version": "3.7.1"
  }
 },
 "nbformat": 4,
 "nbformat_minor": 2
}
